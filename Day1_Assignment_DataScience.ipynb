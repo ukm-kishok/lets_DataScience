{
  "nbformat": 4,
  "nbformat_minor": 0,
  "metadata": {
    "colab": {
      "name": "Day1 Assignment_DataScience",
      "provenance": [],
      "collapsed_sections": []
    },
    "kernelspec": {
      "name": "python3",
      "display_name": "Python 3"
    }
  },
  "cells": [
    {
      "cell_type": "markdown",
      "metadata": {
        "id": "DC1Jc0eWZ0ky"
      },
      "source": [
        "**Question 1**"
      ]
    },
    {
      "cell_type": "code",
      "metadata": {
        "id": "LJv6gyVtZ65g",
        "outputId": "bb533744-32e9-4342-aa50-569210a6ed4f",
        "colab": {
          "base_uri": "https://localhost:8080/"
        }
      },
      "source": [
        "\n",
        "option=input(\"OBANWRI guess the correct english word\\n A.RANIBOW\\n B. RAINBOW\\n C. BOWRANI \\n D. ROBWANI \\n Ans=\")\n",
        "\n",
        "if(option.lower() == \"b\"): \n",
        "\n",
        "                print(\"Correct\")\n",
        "else:\n",
        "\n",
        "     print(\"Wrong\")"
      ],
      "execution_count": null,
      "outputs": [
        {
          "output_type": "stream",
          "text": [
            "OBANWRI guess the correct english word\n",
            " A.RANIBOW\n",
            " B. RAINBOW\n",
            " C. BOWRANI \n",
            " D. ROBWANI \n",
            " Ans=b\n",
            "Correct\n"
          ],
          "name": "stdout"
        }
      ]
    },
    {
      "cell_type": "markdown",
      "metadata": {
        "id": "RR-aVLzO1KDk"
      },
      "source": [
        "**Question 2**\n"
      ]
    },
    {
      "cell_type": "code",
      "metadata": {
        "id": "bIHV0GrR1Mtl",
        "outputId": "573407d1-0626-4656-be98-e5c415a43e26",
        "colab": {
          "base_uri": "https://localhost:8080/"
        }
      },
      "source": [
        "letter=\"letsupgrade\"\n",
        "print(letter.upper())\n"
      ],
      "execution_count": null,
      "outputs": [
        {
          "output_type": "stream",
          "text": [
            "LETSUPGRADE\n"
          ],
          "name": "stdout"
        }
      ]
    },
    {
      "cell_type": "markdown",
      "metadata": {
        "id": "XlGxVjUg1YEA"
      },
      "source": [
        "**Question 3**"
      ]
    },
    {
      "cell_type": "code",
      "metadata": {
        "id": "2QM6CgOy1aUg",
        "outputId": "b5d2dc9d-85fb-43c6-8872-1e61b10c5c93",
        "colab": {
          "base_uri": "https://localhost:8080/"
        }
      },
      "source": [
        "cost=int(input('enter the cost price:'))\n",
        "sell=int(input('enter the selling price:'))\n",
        "if(cost>sell):\n",
        "  print('loss')\n",
        "elif(cost<sell):\n",
        "  print('profit')\n",
        "else:\n",
        "  print('neither')    "
      ],
      "execution_count": null,
      "outputs": [
        {
          "output_type": "stream",
          "text": [
            "enter the cost price:20\n",
            "enter the selling price:20\n",
            "neither\n"
          ],
          "name": "stdout"
        }
      ]
    },
    {
      "cell_type": "markdown",
      "metadata": {
        "id": "631qlqPI2YZS"
      },
      "source": [
        "**Question 4**\n"
      ]
    },
    {
      "cell_type": "code",
      "metadata": {
        "id": "OeG601w_2aJs",
        "outputId": "576e5b71-a82e-4a96-d459-7debae6b4e4e",
        "colab": {
          "base_uri": "https://localhost:8080/"
        }
      },
      "source": [
        "euro = int(input(\"enter the euro:\"))\n",
        "print(euro*80)"
      ],
      "execution_count": null,
      "outputs": [
        {
          "output_type": "stream",
          "text": [
            "enter the euro:150\n",
            "12000\n"
          ],
          "name": "stdout"
        }
      ]
    }
  ]
}
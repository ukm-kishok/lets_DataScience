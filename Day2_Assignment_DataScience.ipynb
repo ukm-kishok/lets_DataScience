{
  "nbformat": 4,
  "nbformat_minor": 0,
  "metadata": {
    "colab": {
      "name": "Day2 Assignment_DataScience",
      "provenance": [],
      "collapsed_sections": []
    },
    "kernelspec": {
      "name": "python3",
      "display_name": "Python 3"
    }
  },
  "cells": [
    {
      "cell_type": "markdown",
      "metadata": {
        "id": "Szy5FewL7e9K"
      },
      "source": [
        "Question 1"
      ]
    },
    {
      "cell_type": "code",
      "metadata": {
        "id": "4sY8GxsL7kjE",
        "outputId": "ee8d1680-4d50-43d4-de15-9a7d64459436",
        "colab": {
          "base_uri": "https://localhost:8080/"
        }
      },
      "source": [
        "list = []\n",
        "print(\"Enter 10 number :\\n\")\n",
        "for i in range(10):\n",
        "    temp = int(input())\n",
        "    if(temp % 2 == 0):\n",
        "        list.append(temp)\n",
        "print(list)"
      ],
      "execution_count": 1,
      "outputs": [
        {
          "output_type": "stream",
          "text": [
            "Enter 10 number :\n",
            "\n",
            "1\n",
            "2\n",
            "3\n",
            "4\n",
            "5\n",
            "6\n",
            "7\n",
            "8\n",
            "9\n",
            "0\n",
            "[2, 4, 6, 8, 0]\n"
          ],
          "name": "stdout"
        }
      ]
    },
    {
      "cell_type": "markdown",
      "metadata": {
        "id": "RegkHNST9Gh3"
      },
      "source": [
        "Question 2\n"
      ]
    },
    {
      "cell_type": "code",
      "metadata": {
        "id": "FqNauO829IdQ",
        "outputId": "024529b9-cfa8-4df3-ae99-2a6545007025",
        "colab": {
          "base_uri": "https://localhost:8080/"
        }
      },
      "source": [
        "n = int(input(\"enter bumber of values for list comprehension:\"))\n",
        "print([2**i for i in range(n)])"
      ],
      "execution_count": 4,
      "outputs": [
        {
          "output_type": "stream",
          "text": [
            "enter bumber of values for list comprehension:10\n",
            "[1, 2, 4, 8, 16, 32, 64, 128, 256, 512]\n"
          ],
          "name": "stdout"
        }
      ]
    },
    {
      "cell_type": "markdown",
      "metadata": {
        "id": "X8xE_bPA9c83"
      },
      "source": [
        "Question 3\n"
      ]
    },
    {
      "cell_type": "code",
      "metadata": {
        "id": "3bnICbE29fBV",
        "outputId": "a16d2ce6-23e8-4c0c-becf-7c739143e3a8",
        "colab": {
          "base_uri": "https://localhost:8080/"
        }
      },
      "source": [
        "n = int(input(\"Enter a number:\"))\n",
        "d = {x:x*x for x in range(1,n+1)}\n",
        "print(\"Output\\n\",d)"
      ],
      "execution_count": 1,
      "outputs": [
        {
          "output_type": "stream",
          "text": [
            "Enter a number:23\n",
            "Output\n",
            " {1: 1, 2: 4, 3: 9, 4: 16, 5: 25, 6: 36, 7: 49, 8: 64, 9: 81, 10: 100, 11: 121, 12: 144, 13: 169, 14: 196, 15: 225, 16: 256, 17: 289, 18: 324, 19: 361, 20: 400, 21: 441, 22: 484, 23: 529}\n"
          ],
          "name": "stdout"
        }
      ]
    },
    {
      "cell_type": "markdown",
      "metadata": {
        "id": "c7lSyLhPeX10"
      },
      "source": [
        "Question 4"
      ]
    },
    {
      "cell_type": "code",
      "metadata": {
        "id": "eLuhUY8hea6D",
        "outputId": "1c542034-a2d5-4d35-d4e2-4efe908df47b",
        "colab": {
          "base_uri": "https://localhost:8080/"
        }
      },
      "source": [
        "pip install numpy\n"
      ],
      "execution_count": 2,
      "outputs": [
        {
          "output_type": "stream",
          "text": [
            "Requirement already satisfied: numpy in /usr/local/lib/python3.6/dist-packages (1.18.5)\n"
          ],
          "name": "stdout"
        }
      ]
    },
    {
      "cell_type": "code",
      "metadata": {
        "id": "rDatwOM-ey5L",
        "outputId": "1e949fb5-fb02-42dc-f308-ee2b6884cc62",
        "colab": {
          "base_uri": "https://localhost:8080/"
        }
      },
      "source": [
        "import math\n",
        "from numpy import *\n",
        "import numpy as np\n",
        "\n",
        "def finalPosition(move): \n",
        "    l = len(move); \n",
        "    countUp, countDown = 0.0, 0.0; \n",
        "    countLeft, countRight = 0.0, 0.0; \n",
        "    for i in range(l): \n",
        "      if (move[i] == 'U'): \n",
        "            countUp += 1; \n",
        "        \n",
        "      elif(move[i] == 'D'): \n",
        "            countDown += 1; \n",
        "  \n",
        "      elif(move[i] == 'L'): \n",
        "            countLeft += 1; \n",
        "  \n",
        "      elif(move[i] == 'R'): \n",
        "            countRight += 1;\n",
        "    print(\"Final Position: (\", (countRight - countLeft), \n",
        "            \", \" , (countUp - countDown), \")\");\n",
        "    x = float(countRight - countLeft)\n",
        "    y = float(countUp - countDown)\n",
        "    \n",
        "    ans2 = float()\n",
        "    ans2 = (((x-0)**2) +((y - 0)**2))**0.5 \n",
        "    print(round(ans2))  \n",
        "if __name__ == '__main__': \n",
        "    print(\"no of direction :4\")\n",
        "    up = int(input(\"UP:\"))\n",
        "    down = int (input(\"Down:\"))\n",
        "    left = int (input(\"Left:\"))\n",
        "    right = int(input(\"Right:\"))\n",
        "    move = str()\n",
        "   \n",
        "    for i in range(up):\n",
        "        move+='U'\n",
        "    for i in range(down):\n",
        "        move+='D'\n",
        "    for i in range(left):\n",
        "        move+='L'\n",
        "    for i in range(right):\n",
        "        move+='R'\n",
        "    finalPosition(move)"
      ],
      "execution_count": 7,
      "outputs": [
        {
          "output_type": "stream",
          "text": [
            "no of direction :4\n",
            "UP:3\n",
            "Down:5\n",
            "Left:2\n",
            "Right:1\n",
            "Final Position: ( -1.0 ,  -2.0 )\n",
            "2\n"
          ],
          "name": "stdout"
        }
      ]
    },
    {
      "cell_type": "code",
      "metadata": {
        "id": "Ne8VZg26f9XJ",
        "outputId": "2464d841-872d-4545-b94f-57357f4bbe65",
        "colab": {
          "base_uri": "https://localhost:8080/"
        }
      },
      "source": [
        "for i in range(5):\n",
        "    print(i)"
      ],
      "execution_count": 8,
      "outputs": [
        {
          "output_type": "stream",
          "text": [
            "0\n",
            "1\n",
            "2\n",
            "3\n",
            "4\n"
          ],
          "name": "stdout"
        }
      ]
    }
  ]
}
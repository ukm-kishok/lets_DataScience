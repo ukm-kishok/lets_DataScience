{
  "nbformat": 4,
  "nbformat_minor": 0,
  "metadata": {
    "colab": {
      "name": "Day3 Assignment_DataScience",
      "provenance": [],
      "collapsed_sections": []
    },
    "kernelspec": {
      "name": "python3",
      "display_name": "Python 3"
    }
  },
  "cells": [
    {
      "cell_type": "code",
      "metadata": {
        "id": "gUQ0p8FWhRUK"
      },
      "source": [
        "import numpy"
      ],
      "execution_count": 1,
      "outputs": []
    },
    {
      "cell_type": "code",
      "metadata": {
        "id": "YxnV_sWqhXIh"
      },
      "source": [
        "import numpy as np"
      ],
      "execution_count": 2,
      "outputs": []
    },
    {
      "cell_type": "markdown",
      "metadata": {
        "id": "T6A4GmDihg_Z"
      },
      "source": [
        "Question1\n"
      ]
    },
    {
      "cell_type": "code",
      "metadata": {
        "id": "OTgVpLL6hix_",
        "outputId": "e7e8b56c-5f23-4e53-87f2-d158ad5e47a2",
        "colab": {
          "base_uri": "https://localhost:8080/"
        }
      },
      "source": [
        "np.arange(start=2, stop=50, step=3)"
      ],
      "execution_count": 3,
      "outputs": [
        {
          "output_type": "execute_result",
          "data": {
            "text/plain": [
              "array([ 2,  5,  8, 11, 14, 17, 20, 23, 26, 29, 32, 35, 38, 41, 44, 47])"
            ]
          },
          "metadata": {
            "tags": []
          },
          "execution_count": 3
        }
      ]
    },
    {
      "cell_type": "markdown",
      "metadata": {
        "id": "7SgkT4ZNhol4"
      },
      "source": [
        "Question2\n"
      ]
    },
    {
      "cell_type": "code",
      "metadata": {
        "id": "NK9O-olrhqLa"
      },
      "source": [
        "data1 = []\n",
        "data2 = []\n",
        "print(\"enter 5 values of data1:\")\n",
        "for i in range(5):\n",
        "    temp =int(input())\n",
        "    data1.append(temp)\n",
        "print(\"enter 5 values of data2:\")\n",
        "for i in range(5):\n",
        "    temp =int(input())\n",
        "    data2.append(temp) \n",
        "arr1 = np.array(data1)\n",
        "arr2 = np.array(data2)\n",
        "arr3 = np.concatenate((arr1,arr2), axis=0)\n",
        "arr3.sort()\n",
        "arr3"
      ],
      "execution_count": null,
      "outputs": []
    },
    {
      "cell_type": "markdown",
      "metadata": {
        "id": "Ts7Yyo5whttF"
      },
      "source": [
        "Question3"
      ]
    },
    {
      "cell_type": "code",
      "metadata": {
        "id": "29QTnoVxhvVR",
        "outputId": "fca4e0c4-1295-41da-9eb4-426ef97a8552",
        "colab": {
          "base_uri": "https://localhost:8080/"
        }
      },
      "source": [
        "arr = np.array( [[ 1, 2, 3], [ 4, 2, 5]] )\n",
        "print(\"Array is of type: \", type(arr))\n",
        "print(\"No. of dimensions: \", arr.ndim)\n",
        "print(\"Shape of array: \", arr.shape)\n",
        "print(\"Size of array: \", arr.size)\n",
        "print(\"Array stores elements of type: \", arr.dtype)"
      ],
      "execution_count": 8,
      "outputs": [
        {
          "output_type": "stream",
          "text": [
            "Array is of type:  <class 'numpy.ndarray'>\n",
            "No. of dimensions:  2\n",
            "Shape of array:  (2, 3)\n",
            "Size of array:  6\n",
            "Array stores elements of type:  int64\n"
          ],
          "name": "stdout"
        }
      ]
    },
    {
      "cell_type": "markdown",
      "metadata": {
        "id": "r28ijmg5hyXL"
      },
      "source": [
        "Question4"
      ]
    },
    {
      "cell_type": "code",
      "metadata": {
        "id": "VfKc32kWh0na",
        "outputId": "b749f0b6-80df-428b-e3c0-c3c9c2b71d54",
        "colab": {
          "base_uri": "https://localhost:8080/"
        }
      },
      "source": [
        "a = np.array([1, 2, 3, 4, 5, 6])\n",
        "a2 = a[np.newaxis, :]\n",
        "row_vector = a[np.newaxis, :]\n",
        "col_vector = a[:, np.newaxis]\n",
        "a.shape,a2.shape,row_vector.shape,col_vector.shape"
      ],
      "execution_count": 7,
      "outputs": [
        {
          "output_type": "execute_result",
          "data": {
            "text/plain": [
              "((6,), (1, 6), (1, 6), (6, 1))"
            ]
          },
          "metadata": {
            "tags": []
          },
          "execution_count": 7
        }
      ]
    },
    {
      "cell_type": "code",
      "metadata": {
        "id": "Apb9D-hTh8c1",
        "outputId": "a43a4e07-7941-4861-aa20-da57bce48d5a",
        "colab": {
          "base_uri": "https://localhost:8080/"
        }
      },
      "source": [
        "a_1d_array = np.array([1, 2, 3, 4])\n",
        "print(\"one dimensional array\")\n",
        "print(a_1d_array)\n",
        "print(\"twodimensional array\")\n",
        "reshaped_to_2d = np.reshape(a_1d_array, (-1, 2))\n",
        "print(reshaped_to_2d)"
      ],
      "execution_count": 6,
      "outputs": [
        {
          "output_type": "stream",
          "text": [
            "one dimensional array\n",
            "[1 2 3 4]\n",
            "twodimensional array\n",
            "[[1 2]\n",
            " [3 4]]\n"
          ],
          "name": "stdout"
        }
      ]
    },
    {
      "cell_type": "markdown",
      "metadata": {
        "id": "8FQ794YTh90D"
      },
      "source": [
        "Question5"
      ]
    },
    {
      "cell_type": "code",
      "metadata": {
        "id": "NahVDTu3h_7F",
        "outputId": "77ab4c7a-2db1-4165-9694-c6285f49693a",
        "colab": {
          "base_uri": "https://localhost:8080/"
        }
      },
      "source": [
        "\n",
        "a = np.array([[1, 2], \n",
        "              [3, 4]]) \n",
        "b = np.array([[5, 6], \n",
        "              [7, 8]]) \n",
        "print(\"Vertical stacking:\\n\", np.vstack((a, b))) \n",
        "  \n",
        "print(\"\\nHorizontal stacking:\\n\", np.hstack((a, b)))"
      ],
      "execution_count": 5,
      "outputs": [
        {
          "output_type": "stream",
          "text": [
            "Vertical stacking:\n",
            " [[1 2]\n",
            " [3 4]\n",
            " [5 6]\n",
            " [7 8]]\n",
            "\n",
            "Horizontal stacking:\n",
            " [[1 2 5 6]\n",
            " [3 4 7 8]]\n"
          ],
          "name": "stdout"
        }
      ]
    },
    {
      "cell_type": "markdown",
      "metadata": {
        "id": "ExqtZkoLiD5P"
      },
      "source": [
        "Question6"
      ]
    },
    {
      "cell_type": "code",
      "metadata": {
        "id": "kZLVWwTBiFZR",
        "outputId": "21264148-3c8b-424d-b35b-89f5428f04bf",
        "colab": {
          "base_uri": "https://localhost:8080/"
        }
      },
      "source": [
        "input_list = [int(item) for item in input(\"Enter the list items : \")]\n",
        "   \n",
        "new_set = set(input_list) \n",
        "print(\"No of unique items in the list are:\", len(new_set))"
      ],
      "execution_count": 4,
      "outputs": [
        {
          "output_type": "stream",
          "text": [
            "Enter the list items : 20\n",
            "No of unique items in the list are: 2\n"
          ],
          "name": "stdout"
        }
      ]
    }
  ]
}